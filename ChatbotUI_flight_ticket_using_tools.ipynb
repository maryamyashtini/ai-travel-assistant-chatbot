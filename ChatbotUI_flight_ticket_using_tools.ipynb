{
 "cells": [
  {
   "cell_type": "code",
   "execution_count": 1,
   "id": "fc985f9e-0665-41bb-9c08-4d3a34b1cbf2",
   "metadata": {},
   "outputs": [
    {
     "name": "stdout",
     "output_type": "stream",
     "text": [
      "Key starts with sk-proj-Mf\n"
     ]
    }
   ],
   "source": [
    "import os\n",
    "import requests\n",
    "from openai import OpenAI\n",
    "from dotenv import load_dotenv\n",
    "import gradio as gr\n",
    "import json\n",
    "\n",
    "load_dotenv(override=True)\n",
    "\n",
    "openai_api_key= os.getenv('OPENAI_API_KEY')\n",
    "if openai_api_key:\n",
    "    print(f\"Key starts with {openai_api_key[:10]}\")\n",
    "else:\n",
    "    print(\"Key doesnt exists.\")\n",
    "\n",
    "openai = OpenAI() \n",
    "# System prompt\n",
    "system_message = \"You are a helpful assistant that can check flight prices, weather, and currency conversions.\""
   ]
  },
  {
   "cell_type": "code",
   "execution_count": 2,
   "id": "9d74afcc-4809-47cf-a77a-089e944396f8",
   "metadata": {},
   "outputs": [],
   "source": [
    "ticket_prices = {\n",
    "    \"london\": \"$799\",\n",
    "    \"paris\": \"$899\",\n",
    "    \"tokyo\": \"$1400\",\n",
    "    \"berlin\": \"$499\"\n",
    "}\n",
    "\n",
    "weather_data = {\n",
    "    \"paris\": \"Sunny, 22°C\",\n",
    "    \"tokyo\": \"Cloudy, 18°C\",\n",
    "    \"london\": \"Rainy, 14°C\",\n",
    "    \"berlin\": \"Windy, 15°C\"\n",
    "}\n",
    "\n",
    "exchange_rates = {\n",
    "    (\"USD\", \"EUR\"): 0.93,\n",
    "    (\"EUR\", \"USD\"): 1.07,\n",
    "    (\"USD\", \"JPY\"): 153.2,\n",
    "    (\"JPY\", \"USD\"): 0.0065\n",
    "}"
   ]
  },
  {
   "cell_type": "code",
   "execution_count": 3,
   "id": "6abd267f-0e27-4a73-a799-5db1af93e210",
   "metadata": {},
   "outputs": [],
   "source": [
    "# Tool functions\n",
    "def get_ticket_price(destination_city):\n",
    "    print(f\"Tool get_ticket_price called for {destination_city}\")\n",
    "    city = destination_city.lower()\n",
    "    return ticket_prices.get(city, \"Unknown\")\n",
    "    \n",
    "def get_weather(destination_city):\n",
    "    print(f\"Tool get_weather called for {destination_city}\")\n",
    "    city = destination_city.lower()\n",
    "    return weather_data.get(city, \"Unknown\")  \n",
    "\n",
    "def get_exchange_rate(from_currency, to_currency):\n",
    "    print(f\"Tool get_exchange_rate called: {from_currency} → {to_currency}\")\n",
    "    return exchange_rates.get((from_currency.upper(), to_currency.upper()), \"Unknown\")    "
   ]
  },
  {
   "cell_type": "code",
   "execution_count": 4,
   "id": "7bf2f1d6-f427-4078-a7c1-262cca9483b6",
   "metadata": {},
   "outputs": [],
   "source": [
    "# === TOOL FUNCTION MAP ===\n",
    "function_map = ({\n",
    "    \"get_ticket_price\": get_ticket_price,\n",
    "    \"get_weather\": get_weather,\n",
    "    \"get_exchange_rate\": get_exchange_rate,})\n",
    "\n",
    "# === TOOL DEFINITIONS ===\n",
    "tools = [\n",
    "    {\n",
    "        \"type\": \"function\",\n",
    "        \"function\": {\n",
    "            \"name\": \"get_ticket_price\",\n",
    "            \"description\": \"Get the ticket price for a specific destination city.\",\n",
    "            \"parameters\": {\n",
    "                \"type\": \"object\",\n",
    "                \"properties\": {\n",
    "                    \"destination_city\": {\"type\": \"string\", \"description\": \"City to get the ticket price for\"             }\n",
    "                },\n",
    "                \"required\": [\"destination_city\"]\n",
    "            }\n",
    "        }\n",
    "    },\n",
    "    {\n",
    "        \"type\": \"function\",\n",
    "        \"function\": {\n",
    "            \"name\": \"get_weather\",\n",
    "            \"description\": \"Get current weather for a destination city.\",\n",
    "            \"parameters\": {\n",
    "                \"type\": \"object\",\n",
    "                \"properties\": {\n",
    "                    \"destination_city\": {\"type\": \"string\"}\n",
    "                },\n",
    "                \"required\": [\"destination_city\"]\n",
    "            }\n",
    "        }\n",
    "    },\n",
    "    {\n",
    "        \"type\": \"function\",\n",
    "        \"function\": {\n",
    "            \"name\": \"get_exchange_rate\",\n",
    "            \"description\": \"Get exchange rate between two currencies.\",\n",
    "            \"parameters\": {\n",
    "                \"type\": \"object\",\n",
    "                \"properties\": {\n",
    "                    \"from_currency\": {\"type\": \"string\"},\n",
    "                    \"to_currency\": {\"type\": \"string\"}\n",
    "                },\n",
    "                \"required\": [\"from_currency\", \"to_currency\"]\n",
    "            }\n",
    "        }\n",
    "    }\n",
    "]"
   ]
  },
  {
   "cell_type": "code",
   "execution_count": 6,
   "id": "5127f713-d5a6-4b2d-8bba-3cadc109ea95",
   "metadata": {},
   "outputs": [],
   "source": [
    "def handle_tool_call(message):\n",
    "    tool_call = message.tool_calls[0]\n",
    "    func_name = tool_call.function.name\n",
    "    arguments = json.loads(tool_call.function.arguments)\n",
    "\n",
    "    if func_name not in function_map:\n",
    "        raise ValueError(f\"Function {func_name} not implemented.\")\n",
    "\n",
    "    result = function_map[func_name](**arguments)\n",
    "\n",
    "    response = {\n",
    "        \"role\": \"tool\",\n",
    "        \"tool_call_id\": tool_call.id,\n",
    "        \"content\": json.dumps(result if isinstance(result, dict) else {\"result\": result})\n",
    "    }\n",
    "    return response\n",
    "\n",
    "def handle_tool_calls(tool_calls):\n",
    "    responses = []\n",
    "    for tool_call in tool_calls:\n",
    "        func_name = tool_call.function.name\n",
    "        arguments = json.loads(tool_call.function.arguments)\n",
    "        result = function_map[func_name](**arguments)\n",
    "        response = {\n",
    "            \"role\": \"tool\",\n",
    "            \"tool_call_id\": tool_call.id,\n",
    "            \"content\": json.dumps(result if isinstance(result, dict) else {\"result\": result})\n",
    "        }\n",
    "        responses.append(response)\n",
    "    return responses\n",
    "\n",
    "# Main chat function\n",
    "def chat(message, history):\n",
    "    messages = [{\"role\": \"system\", \"content\": system_message}] + history + [{\"role\": \"user\", \"content\": message}]\n",
    "    response = openai.chat.completions.create(model=\"gpt-4o-mini\",messages=messages,tools=tools)\n",
    "    choice = response.choices[0]\n",
    "\n",
    "    # If a tool was called\n",
    "    if choice.finish_reason == \"tool_calls\":\n",
    "        tool_messages = choice.message\n",
    "        tool_responses = handle_tool_calls(tool_messages.tool_calls)\n",
    "        messages.append(tool_messages)\n",
    "        messages.extend(tool_responses)\n",
    "        response = openai.chat.completions.create(model=\"gpt-4o-mini\", messages=messages)\n",
    "\n",
    "    return response.choices[0].message.content\n"
   ]
  },
  {
   "cell_type": "code",
   "execution_count": 7,
   "id": "8a6e3bd2-68fe-4883-8351-2b4088423718",
   "metadata": {},
   "outputs": [
    {
     "name": "stdout",
     "output_type": "stream",
     "text": [
      "* Running on local URL:  http://127.0.0.1:7876\n",
      "\n",
      "To create a public link, set `share=True` in `launch()`.\n"
     ]
    },
    {
     "data": {
      "text/html": [
       "<div><iframe src=\"http://127.0.0.1:7876/\" width=\"100%\" height=\"500\" allow=\"autoplay; camera; microphone; clipboard-read; clipboard-write;\" frameborder=\"0\" allowfullscreen></iframe></div>"
      ],
      "text/plain": [
       "<IPython.core.display.HTML object>"
      ]
     },
     "metadata": {},
     "output_type": "display_data"
    },
    {
     "data": {
      "text/plain": []
     },
     "execution_count": 7,
     "metadata": {},
     "output_type": "execute_result"
    },
    {
     "name": "stdout",
     "output_type": "stream",
     "text": [
      "Tool get_ticket_price called for London\n",
      "Tool get_weather called for London\n",
      "Tool get_exchange_rate called: EUR → USD\n"
     ]
    }
   ],
   "source": [
    "gr.ChatInterface(fn=chat, type=\"messages\").launch()"
   ]
  },
  {
   "cell_type": "code",
   "execution_count": null,
   "id": "69283290-64cc-4fe9-89e7-6e9fbab0b7cc",
   "metadata": {},
   "outputs": [],
   "source": [
    "\n"
   ]
  }
 ],
 "metadata": {
  "kernelspec": {
   "display_name": "Python 3 (ipykernel)",
   "language": "python",
   "name": "python3"
  },
  "language_info": {
   "codemirror_mode": {
    "name": "ipython",
    "version": 3
   },
   "file_extension": ".py",
   "mimetype": "text/x-python",
   "name": "python",
   "nbconvert_exporter": "python",
   "pygments_lexer": "ipython3",
   "version": "3.11.12"
  }
 },
 "nbformat": 4,
 "nbformat_minor": 5
}
